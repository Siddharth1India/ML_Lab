{
  "cells": [
    {
      "cell_type": "markdown",
      "metadata": {
        "id": "uk0xy6cDcaMv"
      },
      "source": [
        "**MACHINE LEARNING LAB - 1** (August 2022, Week -1)"
      ]
    },
    {
      "cell_type": "markdown",
      "metadata": {
        "id": "fA9HyHDFf-1D"
      },
      "source": [
        "**Python Practice**"
      ]
    },
    {
      "cell_type": "markdown",
      "metadata": {
        "id": "SXRWDEoafsxk"
      },
      "source": [
        "**Q1.** Write a function that converts a decimal number to binary number."
      ]
    },
    {
      "cell_type": "code",
      "execution_count": 12,
      "metadata": {
        "id": "jIi9SNXNkWzU"
      },
      "outputs": [
        {
          "data": {
            "text/plain": [
              "'1010'"
            ]
          },
          "execution_count": 12,
          "metadata": {},
          "output_type": "execute_result"
        }
      ],
      "source": [
        "# your code here\n",
        "def dec_to_bin(x):\n",
        "    lst = []\n",
        "    while x>=1:\n",
        "        lst.append(x%2)\n",
        "        x = x//2\n",
        "    lst = lst[::-1]\n",
        "    return ''.join(str(i) for i in lst)\n",
        "dec_to_bin(10)"
      ]
    },
    {
      "cell_type": "code",
      "execution_count": 7,
      "metadata": {},
      "outputs": [
        {
          "data": {
            "text/plain": [
              "1"
            ]
          },
          "execution_count": 7,
          "metadata": {},
          "output_type": "execute_result"
        }
      ],
      "source": [
        "5%2"
      ]
    },
    {
      "cell_type": "markdown",
      "metadata": {
        "id": "xt7kX48_0XaV"
      },
      "source": [
        "**Q2.** Write a function to compute the sigmoid of a vector of values. <br> \n",
        "A sigmoid of a real number $x$ is defind as $\\sigma(x)$ = $\\frac{1}{1+e^-x}$ <br>\n",
        "For example:\n",
        "Input: $[x_{1}, x_{2}, x_{3}, x_{4}]$ <br>\n",
        "Output: $[\\sigma{(x_{1})}, \\sigma{(x_{2})}, \\sigma{(x_{3})}, \\sigma{(x_{4})}]$"
      ]
    },
    {
      "cell_type": "code",
      "execution_count": 24,
      "metadata": {
        "id": "8Bz_ilfl4URb"
      },
      "outputs": [
        {
          "data": {
            "text/plain": [
              "[0.9999987088810224,\n",
              " 0.9999999999345675,\n",
              " 0.9999998874648379,\n",
              " 0.8807970779778823,\n",
              " 0.9820137900379085]"
            ]
          },
          "execution_count": 24,
          "metadata": {},
          "output_type": "execute_result"
        }
      ],
      "source": [
        "# Your code here.\n",
        "import math\n",
        "\n",
        "def sigmoid_cal(x):\n",
        "    result = []\n",
        "    for i in range(len(x)):\n",
        "        result.append(1/(1+math.exp(-(x[i]))))\n",
        "    return result\n",
        "\n",
        "input_x = [13.56, 23.45, 16, 2, 4]\n",
        "sigmoid_cal(input_x)"
      ]
    },
    {
      "cell_type": "markdown",
      "metadata": {
        "id": "pZ7WEw2O4uA5"
      },
      "source": [
        "**Q3.** Write a function to compute the derivative of the sigmoid function with respect to its input $x$. Here, the $x$ is a vector. <br> \n",
        "The derivative of a sigmoid is defined as: $\\sigma(x)(1 - \\sigma(x))$\n",
        "<br>\n",
        "*TRY TO PROVE THIS IN YOUR COPY*"
      ]
    },
    {
      "cell_type": "code",
      "execution_count": 33,
      "metadata": {
        "id": "0L1pX5VX5rFP"
      },
      "outputs": [
        {
          "name": "stdout",
          "output_type": "stream",
          "text": [
            "exp(-x)/(1 + exp(-x))**2\n"
          ]
        },
        {
          "data": {
            "text/plain": [
              "(1.1253514941371313e-07, 1.12535149390932e-7)"
            ]
          },
          "execution_count": 33,
          "metadata": {},
          "output_type": "execute_result"
        }
      ],
      "source": [
        "# Your code here\n",
        "from sympy import *\n",
        "from sympy.abc import x\n",
        "def my_function(equation):\n",
        "    equation = equation\n",
        "    var = 'x'\n",
        "    x = symbols(\"x\")\n",
        "    y = symbols(\"y\")\n",
        "    return diff(equation, var)\n",
        "ans = my_function('1/(1+exp(-(x)))')    \n",
        "print(ans)\n",
        "\n",
        "inp = 16\n",
        "rslt_1 = sigmoid_cal([inp])[0]*(1-sigmoid_cal([inp])[0])\n",
        "rslt_2 = ans.evalf(subs={x:inp})\n",
        "rslt_1, rslt_2\n"
      ]
    },
    {
      "cell_type": "markdown",
      "metadata": {
        "id": "hbwpF7Uo6Cqp"
      },
      "source": [
        "**Q4.** Write a function to normalize the rows of a matrix. After applying this function to an input matrix $x$ of size $m \\times n$, each row of $x$ should be a vector of unit length."
      ]
    },
    {
      "cell_type": "code",
      "execution_count": 52,
      "metadata": {
        "id": "PTn3Oh_761Ds"
      },
      "outputs": [
        {
          "data": {
            "text/plain": [
              "array([[0.10482848, 0.20965697, 0.31448545],\n",
              "       [0.41931393, 0.52414242, 0.6289709 ]])"
            ]
          },
          "execution_count": 52,
          "metadata": {},
          "output_type": "execute_result"
        }
      ],
      "source": [
        "# Your code here.\n",
        "import numpy as np\n",
        "m = int(input('Enter number of rows: \\n'))\n",
        "n = int(input('Enter number of columns: \\n'))\n",
        "mat = []\n",
        "for i in range(m):\n",
        "    mat.append([])\n",
        "    for j in range(n):\n",
        "        z = int(input(f'Enter value at ({m, n})'))\n",
        "        mat[i].append(z)\n",
        "\n",
        "npA = np.array(mat)\n",
        "ans = np.linalg.norm(npA)\n",
        "npA/ans"
      ]
    },
    {
      "cell_type": "markdown",
      "metadata": {
        "id": "fscgrzEXgV1s"
      },
      "source": [
        "**Q5.** Write a program which can map() and filter() to make a list whose elements are cube of even numbers in a list."
      ]
    },
    {
      "cell_type": "code",
      "execution_count": 59,
      "metadata": {
        "id": "5F6Us42VkmjS"
      },
      "outputs": [
        {
          "data": {
            "text/plain": [
              "[8, 64, 216, 512]"
            ]
          },
          "execution_count": 59,
          "metadata": {},
          "output_type": "execute_result"
        }
      ],
      "source": [
        "# Your code here\n",
        "def cube(x):\n",
        "    return x**3\n",
        "def even_cube(lst):\n",
        "    return list(map(cube, filter(lambda x:x%2==0, lst)))\n",
        "\n",
        "even_cube([1,2,3,4,5,6,7,8,9])\n"
      ]
    },
    {
      "cell_type": "markdown",
      "metadata": {
        "id": "Du2HiJZzcqA9"
      },
      "source": [
        "\n",
        "**Q6.** consider the marks list of class students given two lists <br>\n",
        "Students = ['student1','student2','student3','student4','student5','student6','student7','student8','student9','student10'] <br>\n",
        "Marks = [45, 78, 12, 14, 48, 43, 45, 98, 35, 80] <br>\n",
        "from the above two lists the Student[0] got Marks[0],  Student[1] got Marks[1] and so on <br><br>\n",
        "your task is to print the name of students <br>\n",
        "<strong>a. Who got top 5 ranks, in the descending order of marks</strong> <br>\n",
        "<strong>b. Who got least 5 ranks, in the increasing order of marks</strong><br>\n",
        "<strong>d. Who got marks between  &gt;25th percentile &lt;75th percentile, in the increasing order of marks</strong>\n",
        "\n",
        "<pre>\n",
        "Ex 1: \n",
        "Students=['student1','student2','student3','student4','student5','student6','student7','student8','student9','student10'] \n",
        "Marks = [45, 78, 12, 14, 48, 43, 47, 98, 35, 80]\n",
        "a. \n",
        "student8  98\n",
        "student10 80\n",
        "student2  78\n",
        "student5  48\n",
        "student7  47\n",
        "b.\n",
        "student3 12\n",
        "student4 14\n",
        "student9 35\n",
        "student6 43\n",
        "student1 45\n",
        "c.\n",
        "student9 35\n",
        "student6 43\n",
        "student1 45\n",
        "student7 47\n",
        "student5 48\n",
        "</pre>"
      ]
    },
    {
      "cell_type": "code",
      "execution_count": 98,
      "metadata": {
        "id": "jmQPiIBMcWpa"
      },
      "outputs": [
        {
          "name": "stdout",
          "output_type": "stream",
          "text": [
            "Top 5:\n",
            "['student8', 98]\n",
            "['student10', 80]\n",
            "['student2', 78]\n",
            "['student5', 48]\n",
            "['student7', 47]\n",
            "\n",
            "\n",
            "Bottom 5:\n",
            "['student3', 12]\n",
            "['student4', 14]\n",
            "['student9', 35]\n",
            "['student6', 43]\n",
            "['student1', 45]\n",
            "\n",
            "\n",
            "Between 25 to 75 percentile:\n",
            "['student9', 35]\n",
            "['student6', 43]\n",
            "['student1', 45]\n",
            "['student7', 47]\n",
            "['student5', 48]\n"
          ]
        }
      ],
      "source": [
        "# your code here\n",
        "Students = ['student1','student2','student3','student4','student5','student6','student7','student8','student9','student10']\n",
        "Marks = [45, 78, 12, 14, 48, 43, 47, 98, 35, 80]\n",
        "\n",
        "listz = [list(i) for i in zip(Students, Marks)]\n",
        "listz.sort(key=lambda x:x[1], reverse=True)\n",
        "listz\n",
        "print('Top 5:')\n",
        "for i in range(5):\n",
        "    print(listz[-(len(listz)-i)])\n",
        "print('\\n')\n",
        "print('Bottom 5:')\n",
        "for i in range(5):\n",
        "    print(listz[-i-1])\n",
        "\n",
        "print('\\n')\n",
        "print('Between 25 to 75 percentile:')\n",
        "listz.sort(key=lambda x:x[1])\n",
        "min_marks = listz[0][1]\n",
        "max_marks = listz[-1][1]\n",
        "difference = int(max_marks-min_marks)\n",
        "per_25 = difference*0.25\n",
        "per_75 = difference*0.75\n",
        "\n",
        "for i in range(len(listz)):\n",
        "        if int(listz[i][1])<per_75 and int(listz[i][1])>per_25:\n",
        "            print(listz[i])"
      ]
    },
    {
      "cell_type": "markdown",
      "metadata": {
        "id": "OqdED0G6dH_0"
      },
      "source": [
        "**Q7.** consider you have given n data points in the form of list of tuples like S=[(x1,y1),(x2,y2),(x3,y3),(x4,y4),(x5,y5),..,(xn,yn)] and a point P=(p,q) <br> your task is to find 5 closest points(based on cosine distance) in S from P\n",
        "<brs (x,y) and (p,q) is defind as $cos^{-1}(\\frac{(x\\cdot p+y\\cdot q)}{\\sqrt(x^2+y^2)\\cdot\\sqrt(p^2+q^2)})$>cosine distance between two point\n",
        "<pre>\n",
        "Ex:\n",
        "\n",
        "S= [(1,2),(3,4),(-1,1),(6,-7),(0, 6),(-5,-8),(-1,-1)(6,0),(1,-1)]\n",
        "P= (3,-4)\n",
        "\n",
        "Output:\n",
        "(6,-7)\n",
        "(1,-1)\n",
        "(6,0)\n",
        "(-5,-8)\n",
        "(-1,-1)\n",
        "</pre>"
      ]
    },
    {
      "cell_type": "code",
      "execution_count": 1,
      "metadata": {
        "id": "OZmPOIp-d3sN"
      },
      "outputs": [
        {
          "name": "stdout",
          "output_type": "stream",
          "text": [
            "(6, -7)\n",
            "(1, -1)\n",
            "(6, 0)\n",
            "(-5, -8)\n",
            "(-1, -1)\n"
          ]
        }
      ],
      "source": [
        "# your code here\n",
        "import math\n",
        "\n",
        "def getClosestPoints(S, P):\n",
        "  distances = []\n",
        "\n",
        "  p = P[0]\n",
        "  q = P[1]\n",
        "\n",
        "  for s in S:\n",
        "    x = s[0]\n",
        "    y = s[1]\n",
        "\n",
        "    distance = math.acos( (x * p + y * q) / ( math.sqrt( x ** 2 + y ** 2 ) * math.sqrt( p ** 2 + q ** 2 ) ) )\n",
        "    distances.append([distance, (x, y)])\n",
        "  \n",
        "  distances.sort(key = lambda x: x[0])\n",
        "\n",
        "  for i in range(5):\n",
        "    print(distances[i][1])\n",
        "\n",
        "\n",
        "SList = [(1,2),(3,4),(-1,1),(6,-7),(0, 6),(-5,-8),(-1,-1),(6,0),(1,-1)]\n",
        "PPoint = (3,-4)\n",
        "\n",
        "getClosestPoints(SList, PPoint)"
      ]
    },
    {
      "cell_type": "markdown",
      "metadata": {
        "id": "6VHCfjFod6Nc"
      },
      "source": [
        "**Q8:** Given two sentences S1, S2\n",
        "You will be given a list of lists, each sublist will be of length 2 i.e. [[x,y],[p,q],[l,m]..[r,s]]\n",
        "consider its like a matrix of n rows and two columns\n",
        "\n",
        "a. the first column Y will contain interger values <br>\n",
        "b. the second column $Y_{score}$ will be having float values <br>\n",
        "Your task is to find the value of $f(Y,Y_{score}) = -1*\\frac{1}{n}\\Sigma_{for each Y,Y_{score} pair}(Ylog10(Y_{score})+(1-Y)log10(1-Y_{score}))$ here n is the number of rows in the matrix\n",
        "<pre>\n",
        "Ex:\n",
        "[[1, 0.4], [0, 0.5], [0, 0.9], [0, 0.3], [0, 0.6], [1, 0.1], [1, 0.9], [1, 0.8]]\n",
        "output:\n",
        "0.4243099\n",
        "</pre>\n",
        "$\\frac{-1}{8}\\cdot((1\\cdot log_{10}(0.4)+0\\cdot log_{10}(0.6))+(0\\cdot log_{10}(0.5)+1\\cdot log_{10}(0.5)) + ... + (1\\cdot log_{10}(0.8)+0\\cdot log_{10}(0.2)) )$"
      ]
    },
    {
      "cell_type": "code",
      "execution_count": 2,
      "metadata": {
        "id": "Gdq7LciXeqJ1"
      },
      "outputs": [
        {
          "data": {
            "text/plain": [
              "0.42430993457031635"
            ]
          },
          "execution_count": 2,
          "metadata": {},
          "output_type": "execute_result"
        }
      ],
      "source": [
        "# your code here\n",
        "import math\n",
        "\n",
        "def calc(inList):\n",
        "  Y = [x[0] for x in inList]\n",
        "  Yscore = [x[1] for x in inList]\n",
        "\n",
        "  innerSummation = 0\n",
        "\n",
        "  for i in range(len(inList)):\n",
        "    innerSummation += (Y[i] * math.log10(Yscore[i])) + (1 - Y[i]) * math.log10(1 - Yscore[i]) \n",
        "\n",
        "  ans = (-1) * ( innerSummation ) / len(Y)\n",
        "\n",
        "  return ans\n",
        "\n",
        "inputList = [[1, 0.4], [0, 0.5], [0, 0.9], [0, 0.3], [0, 0.6], [1, 0.1], [1, 0.9], [1, 0.8]]\n",
        "\n",
        "calc(inputList)"
      ]
    }
  ],
  "metadata": {
    "colab": {
      "collapsed_sections": [],
      "name": "ML Assignment 1.ipynb",
      "provenance": []
    },
    "kernelspec": {
      "display_name": "Python 3.9.1 64-bit",
      "language": "python",
      "name": "python3"
    },
    "language_info": {
      "codemirror_mode": {
        "name": "ipython",
        "version": 3
      },
      "file_extension": ".py",
      "mimetype": "text/x-python",
      "name": "python",
      "nbconvert_exporter": "python",
      "pygments_lexer": "ipython3",
      "version": "3.9.1"
    },
    "vscode": {
      "interpreter": {
        "hash": "93c3a718b4c6642ce4c45cce76395d725a388a32f575fa81b43fa67ce89bca37"
      }
    }
  },
  "nbformat": 4,
  "nbformat_minor": 0
}
