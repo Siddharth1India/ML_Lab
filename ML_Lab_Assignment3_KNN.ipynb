{
  "cells": [
    {
      "cell_type": "markdown",
      "metadata": {
        "id": "VZbBSbbQEI2K"
      },
      "source": [
        "## **Classification using K-Nearest Neighbors**"
      ]
    },
    {
      "cell_type": "markdown",
      "metadata": {
        "id": "0QE3vAzBEYZ-"
      },
      "source": [
        "Load the IRIS data"
      ]
    },
    {
      "cell_type": "code",
      "execution_count": 5,
      "metadata": {
        "id": "UG5qlvW4D-8x"
      },
      "outputs": [
        {
          "data": {
            "text/html": [
              "<div>\n",
              "<style scoped>\n",
              "    .dataframe tbody tr th:only-of-type {\n",
              "        vertical-align: middle;\n",
              "    }\n",
              "\n",
              "    .dataframe tbody tr th {\n",
              "        vertical-align: top;\n",
              "    }\n",
              "\n",
              "    .dataframe thead th {\n",
              "        text-align: right;\n",
              "    }\n",
              "</style>\n",
              "<table border=\"1\" class=\"dataframe\">\n",
              "  <thead>\n",
              "    <tr style=\"text-align: right;\">\n",
              "      <th></th>\n",
              "      <th>sepal_length</th>\n",
              "      <th>sepal_width</th>\n",
              "      <th>petal_length</th>\n",
              "      <th>petal_width</th>\n",
              "      <th>target</th>\n",
              "    </tr>\n",
              "  </thead>\n",
              "  <tbody>\n",
              "    <tr>\n",
              "      <th>0</th>\n",
              "      <td>5.1</td>\n",
              "      <td>3.5</td>\n",
              "      <td>1.4</td>\n",
              "      <td>0.2</td>\n",
              "      <td>setosa</td>\n",
              "    </tr>\n",
              "    <tr>\n",
              "      <th>1</th>\n",
              "      <td>4.9</td>\n",
              "      <td>3.0</td>\n",
              "      <td>1.4</td>\n",
              "      <td>0.2</td>\n",
              "      <td>setosa</td>\n",
              "    </tr>\n",
              "    <tr>\n",
              "      <th>2</th>\n",
              "      <td>4.7</td>\n",
              "      <td>3.2</td>\n",
              "      <td>1.3</td>\n",
              "      <td>0.2</td>\n",
              "      <td>setosa</td>\n",
              "    </tr>\n",
              "    <tr>\n",
              "      <th>3</th>\n",
              "      <td>4.6</td>\n",
              "      <td>3.1</td>\n",
              "      <td>1.5</td>\n",
              "      <td>0.2</td>\n",
              "      <td>setosa</td>\n",
              "    </tr>\n",
              "    <tr>\n",
              "      <th>4</th>\n",
              "      <td>5.0</td>\n",
              "      <td>3.6</td>\n",
              "      <td>1.4</td>\n",
              "      <td>0.2</td>\n",
              "      <td>setosa</td>\n",
              "    </tr>\n",
              "  </tbody>\n",
              "</table>\n",
              "</div>"
            ],
            "text/plain": [
              "   sepal_length  sepal_width  petal_length  petal_width  target\n",
              "0           5.1          3.5           1.4          0.2  setosa\n",
              "1           4.9          3.0           1.4          0.2  setosa\n",
              "2           4.7          3.2           1.3          0.2  setosa\n",
              "3           4.6          3.1           1.5          0.2  setosa\n",
              "4           5.0          3.6           1.4          0.2  setosa"
            ]
          },
          "execution_count": 5,
          "metadata": {},
          "output_type": "execute_result"
        }
      ],
      "source": [
        "import numpy as np\n",
        "import pandas as pd\n",
        "from sklearn.datasets import load_iris\n",
        "\n",
        "iris = pd.read_csv('./iris.csv')\n",
        "\n",
        "# iris = pd.DataFrame(data=np.c_[iris['data'], iris['target']], columns=iris['feature_names']+['target'])\n",
        "iris.rename(columns={'species':'target'}, inplace=True)\n",
        "iris.head()\n"
      ]
    },
    {
      "cell_type": "markdown",
      "metadata": {
        "id": "K9qLFUyYH_Tt"
      },
      "source": [
        "Create class label/vector."
      ]
    },
    {
      "cell_type": "code",
      "execution_count": 6,
      "metadata": {
        "id": "hSPb8eMvIDTe"
      },
      "outputs": [],
      "source": [
        "labels = iris['target'].unique()"
      ]
    },
    {
      "cell_type": "code",
      "execution_count": 7,
      "metadata": {},
      "outputs": [],
      "source": [
        "df = iris.drop(['target'], axis=1)"
      ]
    },
    {
      "cell_type": "markdown",
      "metadata": {
        "id": "WHPa6w3hFJ6s"
      },
      "source": [
        "Splitting data into Train, cross-validation and test sets with Stratified Sampling using *train_test_split()*"
      ]
    },
    {
      "cell_type": "code",
      "execution_count": 8,
      "metadata": {},
      "outputs": [],
      "source": [
        "from sklearn.model_selection import train_test_split"
      ]
    },
    {
      "cell_type": "code",
      "execution_count": 9,
      "metadata": {
        "id": "42k2u_TnFRgL"
      },
      "outputs": [],
      "source": [
        "from sklearn.model_selection import train_test_split\n",
        "\n",
        "X = iris.iloc[: , :-1]\n",
        "y = iris.iloc[: , -1:]\n",
        "\n",
        "X_train, X_test_valid, y_train, y_test_valid = train_test_split(X, y, test_size=0.4, random_state=135)\n",
        "X_test, X_valid, y_test, y_valid = train_test_split(X_test_valid, y_test_valid, test_size=0.5, random_state=135)"
      ]
    },
    {
      "cell_type": "markdown",
      "metadata": {
        "id": "h6-610SeFSkt"
      },
      "source": [
        "Data Preprocessing using column standardisation. Use sklearn.preprocessing.StandardScaler(). "
      ]
    },
    {
      "cell_type": "code",
      "execution_count": 10,
      "metadata": {},
      "outputs": [],
      "source": [
        "from sklearn.preprocessing import  StandardScaler"
      ]
    },
    {
      "cell_type": "code",
      "execution_count": 11,
      "metadata": {
        "id": "dZFZr-85Ibdp"
      },
      "outputs": [],
      "source": [
        "sc = StandardScaler()\n",
        "X_train = sc.fit_transform(X_train)\n",
        "X_test = sc.transform(X_test)\n",
        "X_valid = sc.transform(X_valid)"
      ]
    },
    {
      "cell_type": "markdown",
      "metadata": {
        "id": "q-6YbbRpIcAz"
      },
      "source": [
        "Write your own implementation of K-NN"
      ]
    },
    {
      "cell_type": "code",
      "execution_count": 12,
      "metadata": {},
      "outputs": [],
      "source": [
        "def getEuclideanDistance(a, b):\n",
        "  return np.sqrt(np.sum((a - b) ** 2))"
      ]
    },
    {
      "cell_type": "code",
      "execution_count": 13,
      "metadata": {
        "id": "UTe0qI5-Jm3F"
      },
      "outputs": [],
      "source": [
        "def getAccuracyAndError(A, B):\n",
        "  correct_predictions = 0\n",
        "\n",
        "  for i in range(len(A)):\n",
        "    if A[i] == B[i]:\n",
        "      correct_predictions += 1\n",
        "  \n",
        "  accuracy = correct_predictions / len(A)\n",
        "  error = (len(A) - correct_predictions) / len(A)\n",
        "  \n",
        "  return accuracy, error"
      ]
    },
    {
      "cell_type": "code",
      "execution_count": 14,
      "metadata": {},
      "outputs": [],
      "source": [
        "def knn(X_train, y_train, X_input, y_input, k):\n",
        "  y_pred = []\n",
        "  \n",
        "  for x_input in X_input:\n",
        "    distances = []\n",
        "\n",
        "    for i in range(len(X_train)):\n",
        "      distances.append([ getEuclideanDistance(np.array(x_input) , np.array(X_train[i])), y_train[\"target\"].to_numpy()[i] ])\n",
        "    \n",
        "    distances.sort(key = lambda x: x[0])\n",
        "    k_nearest_points = distances[:k]\n",
        "\n",
        "    classes = [ ['setosa', 0], ['versicolor', 0], ['virginica', 0] ]\n",
        "\n",
        "    for point in k_nearest_points:\n",
        "      if point[1] == 'setosa':\n",
        "        classes[0][1] += 1\n",
        "      elif point[1] == 'versicolor':\n",
        "        classes[1][1] += 1\n",
        "      else:\n",
        "        classes[2][1] += 1\n",
        "    \n",
        "    classes.sort(key = lambda x: x[1], reverse=True)\n",
        "\n",
        "    y_pred.append(classes[0][0])\n",
        "  \n",
        "  accuracy, error = getAccuracyAndError(y_pred, y_input[\"target\"].to_numpy())\n",
        "\n",
        "  return accuracy, error"
      ]
    },
    {
      "cell_type": "markdown",
      "metadata": {
        "id": "Dvb8RtYkJs_A"
      },
      "source": [
        "Perform hyper-parameter tuning. Here, K is a hyperparameter. <br>\n",
        "\n",
        "Compute training accuracy and cross-validation accuracy for every value of K in [1,3,5,7,9,11,13,15,17,19,21,23,25] and choose the best K.\n"
      ]
    },
    {
      "cell_type": "code",
      "execution_count": 15,
      "metadata": {
        "id": "RYPczfJXKQUt"
      },
      "outputs": [],
      "source": [
        "def getResults(X_train, y_train, X_valid, y_valid):\n",
        "  K = [1,3,5,7,9,11,13,15,17,19,21,23,25]\n",
        "  accuraciesAndErrors = []\n",
        "  errors = []\n",
        "\n",
        "  for k in K:\n",
        "    train_accuracy, train_error = knn(X_train, y_train, X_train, y_train, k)\n",
        "    crossval_accuracy, crossval_error = knn(X_train, y_train, X_valid, y_valid, k)\n",
        "\n",
        "    accuraciesAndErrors.append([ k, round(train_accuracy * 100, 2), round(crossval_accuracy * 100, 2), round(train_error * 100, 2), round(crossval_error * 100, 2) ])\n",
        "\n",
        "  results = pd.DataFrame(accuraciesAndErrors, columns = ['K', 'Training Accuracy', 'Cross-Validation Accuracy', 'Training Error', 'Cross-Validation Error'])\n",
        "\n",
        "  return results"
      ]
    },
    {
      "cell_type": "code",
      "execution_count": 16,
      "metadata": {},
      "outputs": [
        {
          "data": {
            "text/html": [
              "<div>\n",
              "<style scoped>\n",
              "    .dataframe tbody tr th:only-of-type {\n",
              "        vertical-align: middle;\n",
              "    }\n",
              "\n",
              "    .dataframe tbody tr th {\n",
              "        vertical-align: top;\n",
              "    }\n",
              "\n",
              "    .dataframe thead th {\n",
              "        text-align: right;\n",
              "    }\n",
              "</style>\n",
              "<table border=\"1\" class=\"dataframe\">\n",
              "  <thead>\n",
              "    <tr style=\"text-align: right;\">\n",
              "      <th></th>\n",
              "      <th>K</th>\n",
              "      <th>Training Accuracy</th>\n",
              "      <th>Cross-Validation Accuracy</th>\n",
              "      <th>Training Error</th>\n",
              "      <th>Cross-Validation Error</th>\n",
              "    </tr>\n",
              "  </thead>\n",
              "  <tbody>\n",
              "    <tr>\n",
              "      <th>0</th>\n",
              "      <td>1</td>\n",
              "      <td>100.00</td>\n",
              "      <td>96.67</td>\n",
              "      <td>0.00</td>\n",
              "      <td>3.33</td>\n",
              "    </tr>\n",
              "    <tr>\n",
              "      <th>1</th>\n",
              "      <td>3</td>\n",
              "      <td>96.67</td>\n",
              "      <td>100.00</td>\n",
              "      <td>3.33</td>\n",
              "      <td>0.00</td>\n",
              "    </tr>\n",
              "    <tr>\n",
              "      <th>2</th>\n",
              "      <td>5</td>\n",
              "      <td>93.33</td>\n",
              "      <td>100.00</td>\n",
              "      <td>6.67</td>\n",
              "      <td>0.00</td>\n",
              "    </tr>\n",
              "    <tr>\n",
              "      <th>3</th>\n",
              "      <td>7</td>\n",
              "      <td>94.44</td>\n",
              "      <td>100.00</td>\n",
              "      <td>5.56</td>\n",
              "      <td>0.00</td>\n",
              "    </tr>\n",
              "    <tr>\n",
              "      <th>4</th>\n",
              "      <td>9</td>\n",
              "      <td>94.44</td>\n",
              "      <td>100.00</td>\n",
              "      <td>5.56</td>\n",
              "      <td>0.00</td>\n",
              "    </tr>\n",
              "    <tr>\n",
              "      <th>5</th>\n",
              "      <td>11</td>\n",
              "      <td>93.33</td>\n",
              "      <td>93.33</td>\n",
              "      <td>6.67</td>\n",
              "      <td>6.67</td>\n",
              "    </tr>\n",
              "    <tr>\n",
              "      <th>6</th>\n",
              "      <td>13</td>\n",
              "      <td>93.33</td>\n",
              "      <td>93.33</td>\n",
              "      <td>6.67</td>\n",
              "      <td>6.67</td>\n",
              "    </tr>\n",
              "    <tr>\n",
              "      <th>7</th>\n",
              "      <td>15</td>\n",
              "      <td>94.44</td>\n",
              "      <td>93.33</td>\n",
              "      <td>5.56</td>\n",
              "      <td>6.67</td>\n",
              "    </tr>\n",
              "    <tr>\n",
              "      <th>8</th>\n",
              "      <td>17</td>\n",
              "      <td>93.33</td>\n",
              "      <td>93.33</td>\n",
              "      <td>6.67</td>\n",
              "      <td>6.67</td>\n",
              "    </tr>\n",
              "    <tr>\n",
              "      <th>9</th>\n",
              "      <td>19</td>\n",
              "      <td>93.33</td>\n",
              "      <td>90.00</td>\n",
              "      <td>6.67</td>\n",
              "      <td>10.00</td>\n",
              "    </tr>\n",
              "    <tr>\n",
              "      <th>10</th>\n",
              "      <td>21</td>\n",
              "      <td>92.22</td>\n",
              "      <td>86.67</td>\n",
              "      <td>7.78</td>\n",
              "      <td>13.33</td>\n",
              "    </tr>\n",
              "    <tr>\n",
              "      <th>11</th>\n",
              "      <td>23</td>\n",
              "      <td>92.22</td>\n",
              "      <td>90.00</td>\n",
              "      <td>7.78</td>\n",
              "      <td>10.00</td>\n",
              "    </tr>\n",
              "    <tr>\n",
              "      <th>12</th>\n",
              "      <td>25</td>\n",
              "      <td>94.44</td>\n",
              "      <td>93.33</td>\n",
              "      <td>5.56</td>\n",
              "      <td>6.67</td>\n",
              "    </tr>\n",
              "  </tbody>\n",
              "</table>\n",
              "</div>"
            ],
            "text/plain": [
              "     K  Training Accuracy  ...  Training Error  Cross-Validation Error\n",
              "0    1             100.00  ...            0.00                    3.33\n",
              "1    3              96.67  ...            3.33                    0.00\n",
              "2    5              93.33  ...            6.67                    0.00\n",
              "3    7              94.44  ...            5.56                    0.00\n",
              "4    9              94.44  ...            5.56                    0.00\n",
              "5   11              93.33  ...            6.67                    6.67\n",
              "6   13              93.33  ...            6.67                    6.67\n",
              "7   15              94.44  ...            5.56                    6.67\n",
              "8   17              93.33  ...            6.67                    6.67\n",
              "9   19              93.33  ...            6.67                   10.00\n",
              "10  21              92.22  ...            7.78                   13.33\n",
              "11  23              92.22  ...            7.78                   10.00\n",
              "12  25              94.44  ...            5.56                    6.67\n",
              "\n",
              "[13 rows x 5 columns]"
            ]
          },
          "execution_count": 16,
          "metadata": {},
          "output_type": "execute_result"
        }
      ],
      "source": [
        "results = getResults(X_train, y_train, X_valid, y_valid)\n",
        "results"
      ]
    },
    {
      "cell_type": "markdown",
      "metadata": {
        "id": "3EMUUFqkKRTa"
      },
      "source": [
        "Plot the \"Hyperparameter vs. accuracy\" graph for training and CV sets."
      ]
    },
    {
      "cell_type": "code",
      "execution_count": 17,
      "metadata": {
        "id": "64FRUwKDIyb4"
      },
      "outputs": [
        {
          "data": {
            "image/png": "[encoded data removed]",
            "text/plain": [
              "<Figure size 432x288 with 1 Axes>"
            ]
          },
          "metadata": {
            "needs_background": "light"
          },
          "output_type": "display_data"
        }
      ],
      "source": [
        "import matplotlib.pyplot as plt\n",
        "results.plot(x='K', y=['Training Accuracy', 'Cross-Validation Accuracy'], kind=\"line\")\n",
        "plt.show()"
      ]
    },
    {
      "cell_type": "markdown",
      "metadata": {
        "id": "9xuCHtw3Lmuj"
      },
      "source": [
        "Plot the training and CV errors graphs w.r.t. different values of K. Write your observations for overfitting and underfitting."
      ]
    },
    {
      "cell_type": "code",
      "execution_count": 18,
      "metadata": {
        "id": "atXTSmX5L5-q"
      },
      "outputs": [
        {
          "data": {
            "text/html": [
              "<div>\n",
              "<style scoped>\n",
              "    .dataframe tbody tr th:only-of-type {\n",
              "        vertical-align: middle;\n",
              "    }\n",
              "\n",
              "    .dataframe tbody tr th {\n",
              "        vertical-align: top;\n",
              "    }\n",
              "\n",
              "    .dataframe thead th {\n",
              "        text-align: right;\n",
              "    }\n",
              "</style>\n",
              "<table border=\"1\" class=\"dataframe\">\n",
              "  <thead>\n",
              "    <tr style=\"text-align: right;\">\n",
              "      <th></th>\n",
              "      <th>K</th>\n",
              "      <th>Training Error</th>\n",
              "      <th>Cross-Validation Error</th>\n",
              "    </tr>\n",
              "  </thead>\n",
              "  <tbody>\n",
              "    <tr>\n",
              "      <th>0</th>\n",
              "      <td>1</td>\n",
              "      <td>0.00</td>\n",
              "      <td>3.33</td>\n",
              "    </tr>\n",
              "    <tr>\n",
              "      <th>1</th>\n",
              "      <td>3</td>\n",
              "      <td>3.33</td>\n",
              "      <td>0.00</td>\n",
              "    </tr>\n",
              "    <tr>\n",
              "      <th>2</th>\n",
              "      <td>5</td>\n",
              "      <td>6.67</td>\n",
              "      <td>0.00</td>\n",
              "    </tr>\n",
              "    <tr>\n",
              "      <th>3</th>\n",
              "      <td>7</td>\n",
              "      <td>5.56</td>\n",
              "      <td>0.00</td>\n",
              "    </tr>\n",
              "    <tr>\n",
              "      <th>4</th>\n",
              "      <td>9</td>\n",
              "      <td>5.56</td>\n",
              "      <td>0.00</td>\n",
              "    </tr>\n",
              "    <tr>\n",
              "      <th>5</th>\n",
              "      <td>11</td>\n",
              "      <td>6.67</td>\n",
              "      <td>6.67</td>\n",
              "    </tr>\n",
              "    <tr>\n",
              "      <th>6</th>\n",
              "      <td>13</td>\n",
              "      <td>6.67</td>\n",
              "      <td>6.67</td>\n",
              "    </tr>\n",
              "    <tr>\n",
              "      <th>7</th>\n",
              "      <td>15</td>\n",
              "      <td>5.56</td>\n",
              "      <td>6.67</td>\n",
              "    </tr>\n",
              "    <tr>\n",
              "      <th>8</th>\n",
              "      <td>17</td>\n",
              "      <td>6.67</td>\n",
              "      <td>6.67</td>\n",
              "    </tr>\n",
              "    <tr>\n",
              "      <th>9</th>\n",
              "      <td>19</td>\n",
              "      <td>6.67</td>\n",
              "      <td>10.00</td>\n",
              "    </tr>\n",
              "    <tr>\n",
              "      <th>10</th>\n",
              "      <td>21</td>\n",
              "      <td>7.78</td>\n",
              "      <td>13.33</td>\n",
              "    </tr>\n",
              "    <tr>\n",
              "      <th>11</th>\n",
              "      <td>23</td>\n",
              "      <td>7.78</td>\n",
              "      <td>10.00</td>\n",
              "    </tr>\n",
              "    <tr>\n",
              "      <th>12</th>\n",
              "      <td>25</td>\n",
              "      <td>5.56</td>\n",
              "      <td>6.67</td>\n",
              "    </tr>\n",
              "  </tbody>\n",
              "</table>\n",
              "</div>"
            ],
            "text/plain": [
              "     K  Training Error  Cross-Validation Error\n",
              "0    1            0.00                    3.33\n",
              "1    3            3.33                    0.00\n",
              "2    5            6.67                    0.00\n",
              "3    7            5.56                    0.00\n",
              "4    9            5.56                    0.00\n",
              "5   11            6.67                    6.67\n",
              "6   13            6.67                    6.67\n",
              "7   15            5.56                    6.67\n",
              "8   17            6.67                    6.67\n",
              "9   19            6.67                   10.00\n",
              "10  21            7.78                   13.33\n",
              "11  23            7.78                   10.00\n",
              "12  25            5.56                    6.67"
            ]
          },
          "metadata": {},
          "output_type": "display_data"
        }
      ],
      "source": [
        "display(results[['K', 'Training Error', 'Cross-Validation Error']])"
      ]
    },
    {
      "cell_type": "code",
      "execution_count": 19,
      "metadata": {},
      "outputs": [
        {
          "data": {
            "image/png": "[encoded data removed]",
            "text/plain": [
              "<Figure size 432x288 with 1 Axes>"
            ]
          },
          "metadata": {
            "needs_background": "light"
          },
          "output_type": "display_data"
        }
      ],
      "source": [
        "results.plot(x='K', y=['Training Error', 'Cross-Validation Error'], kind=\"line\")\n",
        "plt.show()"
      ]
    },
    {
      "cell_type": "markdown",
      "metadata": {
        "id": "eXOSO00JL7VU"
      },
      "source": [
        "Test the performance of your model on Test sets."
      ]
    },
    {
      "cell_type": "code",
      "execution_count": 20,
      "metadata": {
        "id": "S2ZaeukKMI8L"
      },
      "outputs": [
        {
          "name": "stdout",
          "output_type": "stream",
          "text": [
            "We are selecting k=3 as optimal number of neighbors.\n",
            "  Accuracy = 93.33 %\n",
            "  Error = 6.67 %\n"
          ]
        }
      ],
      "source": [
        "accuracy, error = knn(X_train, y_train, X_test, y_test, 3)\n",
        "print(f\"We are selecting k=3 as optimal number of neighbors.\")\n",
        "print(f\"  Accuracy = {round(accuracy * 100, 2)} %\")\n",
        "print(f\"  Error = {round(error * 100, 2)} %\")"
      ]
    },
    {
      "cell_type": "markdown",
      "metadata": {
        "id": "uW2EHc2OMYV4"
      },
      "source": [
        "Compare your implementation with sk-learn's implementation of KNN"
      ]
    },
    {
      "cell_type": "code",
      "execution_count": null,
      "metadata": {
        "id": "-7z2zKrnN5xF"
      },
      "outputs": [],
      "source": []
    },
    {
      "cell_type": "code",
      "execution_count": null,
      "metadata": {
        "id": "KJt2INJRN5Xg"
      },
      "outputs": [],
      "source": []
    }
  ],
  "metadata": {
    "colab": {
      "collapsed_sections": [],
      "name": "ML_Lab_Assignment3_KNN.ipynb",
      "provenance": []
    },
    "kernelspec": {
      "display_name": "Python 3.9.1 64-bit",
      "language": "python",
      "name": "python3"
    },
    "language_info": {
      "codemirror_mode": {
        "name": "ipython",
        "version": 3
      },
      "file_extension": ".py",
      "mimetype": "text/x-python",
      "name": "python",
      "nbconvert_exporter": "python",
      "pygments_lexer": "ipython3",
      "version": "3.9.1"
    },
    "vscode": {
      "interpreter": {
        "hash": "93c3a718b4c6642ce4c45cce76395d725a388a32f575fa81b43fa67ce89bca37"
      }
    }
  },
  "nbformat": 4,
  "nbformat_minor": 0
}
