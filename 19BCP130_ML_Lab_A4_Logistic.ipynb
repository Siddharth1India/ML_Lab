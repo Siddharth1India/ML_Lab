{
  "cells": [
    {
      "cell_type": "markdown",
      "metadata": {
        "id": "MCPVvjqbnj9H"
      },
      "source": [
        "**Import Libraries**"
      ]
    },
    {
      "cell_type": "code",
      "execution_count": null,
      "metadata": {
        "id": "4gjDBklCnJB2"
      },
      "outputs": [],
      "source": [
        "from sklearn.model_selection import train_test_split\n",
        "from sklearn.datasets import *\n",
        "from sklearn.linear_model import LogisticRegression"
      ]
    },
    {
      "cell_type": "code",
      "execution_count": null,
      "metadata": {
        "id": "c7AH80DIVSF2"
      },
      "outputs": [],
      "source": [
        "import numpy as np\n",
        "from sklearn.preprocessing import StandardScaler"
      ]
    },
    {
      "cell_type": "markdown",
      "metadata": {
        "id": "xV_D3GvSnqE2"
      },
      "source": [
        "**Load the data**"
      ]
    },
    {
      "cell_type": "code",
      "execution_count": null,
      "metadata": {
        "id": "RIBmJYuXnsa2"
      },
      "outputs": [],
      "source": [
        "data = load_breast_cancer() #refer: http://scikit-learn.org/stable/modules/generated/sklearn.datasets.load_breast_cancer.html#sklearn.datasets.load_breast_cancer\n",
        "\n",
        "# data with features\n",
        "X = data.data\n",
        "\n",
        "# data class labels\n",
        "y = data.target"
      ]
    },
    {
      "cell_type": "markdown",
      "metadata": {
        "id": "ZmIAUYfusNJK"
      },
      "source": [
        "**Print the number of data points, number of features and number of classes in the given data set.**"
      ]
    },
    {
      "cell_type": "code",
      "execution_count": null,
      "metadata": {
        "colab": {
          "base_uri": "https://localhost:8080/"
        },
        "id": "Ib_fr2lDsaQa",
        "outputId": "8ea42ed6-c8d5-4eda-faf0-b3b0c79fab30"
      },
      "outputs": [
        {
          "name": "stdout",
          "output_type": "stream",
          "text": [
            "Number of data points = 569\n",
            "Number of features = 30\n",
            "Number of classes = 2\n"
          ]
        }
      ],
      "source": [
        "print(f'Number of data points = {data.data.shape[0]}')\n",
        "print(f'Number of features = {len(data.feature_names)}')\n",
        "print(f'Number of classes = {len(data.target_names)}')"
      ]
    },
    {
      "cell_type": "markdown",
      "metadata": {
        "id": "0FSg49Uxsnw6"
      },
      "source": [
        "**Splitting data into Train and test sets with Stratified Sampling using train_test_split()**"
      ]
    },
    {
      "cell_type": "code",
      "execution_count": null,
      "metadata": {
        "id": "XyGtQkgGsqQa"
      },
      "outputs": [],
      "source": [
        "X_train, X_test, y_train, y_test = train_test_split(X, y, stratify=y, test_size=0.2, random_state=135)"
      ]
    },
    {
      "cell_type": "code",
      "execution_count": null,
      "metadata": {
        "colab": {
          "background_save": true
        },
        "id": "uMhaqUAzYv4T",
        "outputId": "f3214cf1-c570-4fdd-ee1a-8f7bc392b8c8"
      },
      "outputs": [
        {
          "name": "stdout",
          "output_type": "stream",
          "text": [
            "Shape of X is 569 * 30\n",
            "Shape of X_train is 455 * 30\n",
            "Shape of X_test is 114 * 30\n"
          ]
        }
      ],
      "source": [
        "def getShape(name, dataset):\n",
        "  print(f'Shape of {name} is {dataset.shape[0]} * {dataset.shape[1]}')\n",
        "\n",
        "getShape('X', X)\n",
        "getShape('X_train', X_train)\n",
        "getShape('X_test', X_test)"
      ]
    },
    {
      "cell_type": "markdown",
      "metadata": {
        "id": "qZEUDkrmsr1S"
      },
      "source": [
        "**Data Preprocessing using column standardisation. Use sklearn.preprocessing.StandardScaler().**"
      ]
    },
    {
      "cell_type": "code",
      "execution_count": null,
      "metadata": {
        "id": "W3IqnsLtsxdJ"
      },
      "outputs": [],
      "source": [
        "sc = StandardScaler()\n",
        "X_train = sc.fit_transform(X_train)\n",
        "X_test = sc.transform(X_test)"
      ]
    },
    {
      "cell_type": "markdown",
      "metadata": {
        "id": "0hI7Xizrsx9y"
      },
      "source": [
        "## **Implement Logistic Regression Using Gradient Descent: without using sklearn.**"
      ]
    },
    {
      "cell_type": "markdown",
      "metadata": {
        "id": "ynujCs0lwy4n"
      },
      "source": [
        "\n",
        "In this algorithm, $n$ is the total number of datapoints in dataset. \n",
        "$\\alpha$ is the learning rate to be used in gradient descent. For this work, just fix $\\alpha = 0.001$.\n",
        "\n",
        "The predicted value for data point $x$ is $y_{pred} = σ(w^{T}x + b)$, where $σ$ is a sigmoid function.\n",
        "\n",
        "**ALGORITHM:**\n",
        "\n",
        "<br>\n",
        "\n",
        "* Initialize the weight_vector and intercept term to zeros (Write your code in <font color='blue'>def initialize_weights()</font>)\n",
        "\n",
        "* Create a loss function (Write your code in <font color='blue'>def logloss()</font>) \n",
        "\n",
        " $log loss = -1*\\frac{1}{n}\\Sigma_{for each y_{true},y_{pred}}(y_{true}log(y_{pred})+(1-y_{true})log(1-y_{pred}))$\n",
        "- for each epoch:\n",
        "\n",
        "    - for each data point say $x_{i}$ in train:\n",
        "\n",
        "        - calculate the gradient of loss function w.r.t each weight in weight vector (write your code in <font color='blue'>def gradient_dw()</font>)\n",
        "\n",
        "        $dw^{(t)} = \\frac{1}{n}(x_i(σ((w^{(t)})^{T} x_i+b^{t}) - y_i))$ <br>\n",
        "\n",
        "        - Calculate the gradient of the intercept (write your code in <font color='blue'> def gradient_db()</font>)\n",
        "\n",
        "           $ db^{(t)} = \\frac{1}{n}(σ((w^{(t)})^{T} x_i+b^{t}) - y_i))$\n",
        "\n",
        "        - Update weights and intercept using gradient descent  <br>\n",
        "        $w^{(t+1)}← w^{(t)} - α(dw^{(t)}) $<br>\n",
        "\n",
        "        $b^{(t+1)}←b^{(t)} - α(db^{(t)}) $\n",
        "    - predict the output for all test data points with updated weights. (write your function in def prediction())\n",
        "    - calculate the log loss for train and test data points separately with the updated weights. Store these losses in the lists, train_loss and test_loss.\n",
        "    - And if you wish, you can compare the previous train loss and the current train loss, if it is not updating, then\n",
        "        you can stop the training\n",
        "    -return the updated weights, training and test loss lists.\n"
      ]
    },
    {
      "cell_type": "code",
      "execution_count": null,
      "metadata": {
        "id": "85VJ1n5Q0ig6"
      },
      "outputs": [],
      "source": [
        "def logloss(y_true, y_pred):\n",
        "    # you have been given two arrays y_true and y_pred and you have to calculate the logloss\n",
        "    inner_summation = 0\n",
        "\n",
        "    for i in range(len(y_true)):\n",
        "      inner_summation += y_true[i] * np.log10(y_pred[i]) + (1 - y_true[i]) * np.log10(1 - y_pred[i])\n",
        "    \n",
        "    logloss = (-1) * ( 1 / len(y_true) ) * inner_summation\n",
        "\n",
        "    return logloss"
      ]
    },
    {
      "cell_type": "code",
      "execution_count": null,
      "metadata": {
        "id": "18XrII86wxbn"
      },
      "outputs": [],
      "source": [
        "def initialize_weights(inVec):\n",
        "    #initialize the weights as 1d array consisting of all zeros similar to the dimensions of input vector.\n",
        "    weights = np.zeros_like(inVec)\n",
        "\n",
        "    #initialize bias to zero\n",
        "    bias = 0\n",
        "\n",
        "    return weights, bias"
      ]
    },
    {
      "cell_type": "code",
      "execution_count": null,
      "metadata": {
        "id": "LvxGkvA-0bW6"
      },
      "outputs": [],
      "source": [
        "def sigmoid(z):\n",
        "    ''' In this function, we will return sigmoid of z'''\n",
        "    # compute sigmoid(z) and return\n",
        "    return 1 / (1 + np.exp(-z))"
      ]
    },
    {
      "cell_type": "code",
      "execution_count": null,
      "metadata": {
        "id": "j1sFxfpm0yhA"
      },
      "outputs": [],
      "source": [
        "# w should be a vector of size as input data point. Size of w and dw be same.\n",
        "def gradient_dw(x, y, w, b, n):\n",
        "  # In this function, we will compute the gradient w.r.to w\n",
        "  dw = (1/n) * (x * sigmoid(np.dot(w, x) + b) - y)\n",
        "\n",
        "  return dw    "
      ]
    },
    {
      "cell_type": "code",
      "execution_count": null,
      "metadata": {
        "id": "CWxvXtMI1KMr"
      },
      "outputs": [],
      "source": [
        "#b should be a scalar value\n",
        "def gradient_db(x, y, w, b, n):\n",
        "  # In this function, we will compute gradient w.r.to b \n",
        "  db = (1/n) * (sigmoid(np.dot(w, x) + b) - y)\n",
        "\n",
        "  return db"
      ]
    },
    {
      "cell_type": "markdown",
      "metadata": {
        "id": "xKttny689cmV"
      },
      "source": [
        "**For the prediction, if activation_value > 0.5 then assign label = 1 else label = 0**"
      ]
    },
    {
      "cell_type": "code",
      "execution_count": null,
      "metadata": {
        "id": "aGLAVthp5Ug_"
      },
      "outputs": [],
      "source": [
        "# def predict(w, b, X):\n",
        "#   # predicting the class label for a data point.\n",
        "#   n = len(X)\n",
        "#   z = np.dot(w, X) + b\n",
        "\n",
        "#   if sigmoid(z) > 0.5:\n",
        "#     return 1\n",
        "#   else:\n",
        "#     return 0"
      ]
    },
    {
      "cell_type": "code",
      "execution_count": null,
      "metadata": {
        "id": "IKMC4UpxeT9c"
      },
      "outputs": [],
      "source": [
        "def predict(w, b, X):\n",
        "  # predicting the class label for a data point.\n",
        "  n = len(X)\n",
        "  z = np.dot(w, X) + b\n",
        "\n",
        "  return sigmoid(z)"
      ]
    },
    {
      "cell_type": "code",
      "execution_count": null,
      "metadata": {
        "id": "yu1wK8Xq1mTI"
      },
      "outputs": [],
      "source": [
        "def logistic_regression(X_train, y_train, X_test, y_test, epochs, alpha, threshold):\n",
        "  # implement your algorithm\n",
        "  weights, bias = initialize_weights(X_train[0])\n",
        "\n",
        "  train_loss, test_loss = [], []\n",
        "  n = len(X_train)\n",
        "\n",
        "  # while(1):\n",
        "  #   for epoch in range(epochs):\n",
        "  #     for batch in range(n):\n",
        "  #       dw = gradient_dw(X_train[batch], y_train[batch], weights, bias, n)\n",
        "  #       db = gradient_db(X_train[batch], y_train[batch], weights, bias, n)\n",
        "\n",
        "  #       weights -= alpha * dw\n",
        "  #       bias -= alpha * db\n",
        "\n",
        "  #     train_predict, test_predict = [], []\n",
        "\n",
        "  #     for batch in range(len(X_train)):\n",
        "  #       train_predict.append( predict(weights, bias, X_train[batch]) )\n",
        "        \n",
        "  #     for batch in range(len(X_test)):\n",
        "  #       test_predict.append( predict(weights, bias, X_test[batch]) )\n",
        "\n",
        "  #     train_loss.append( logloss(y_train, train_predict) )\n",
        "  #     test_loss.append( logloss(y_test, test_predict) )\n",
        "\n",
        "    \n",
        "  for epoch in range(epochs):\n",
        "    for batch in range(n):\n",
        "      dw = gradient_dw(X_train[batch], y_train[batch], weights, bias, n)\n",
        "      db = gradient_db(X_train[batch], y_train[batch], weights, bias, n)\n",
        "\n",
        "      weights = weights + alpha * dw\n",
        "      bias = bias + alpha * db\n",
        "\n",
        "    train_predict, test_predict = [], []\n",
        "\n",
        "    for batch in range(len(X_train)):\n",
        "      train_predict.append( predict(weights, bias, X_train[batch]) )\n",
        "    \n",
        "    for batch in range(len(X_test)):\n",
        "      test_predict.append( predict(weights, bias, X_test[batch]) )\n",
        "\n",
        "    train_loss.append( logloss(y_train, train_predict) )\n",
        "    test_loss.append( logloss(y_test, test_predict) )\n",
        "  \n",
        "  return train_loss, test_loss"
      ]
    },
    {
      "cell_type": "markdown",
      "metadata": {
        "id": "WYe3WqKO5kW1"
      },
      "source": [
        "**Plot your train and test loss vs epochs. Plot epoch number on X-axis and loss on Y-axis and make sure that the curve is converging**"
      ]
    },
    {
      "cell_type": "code",
      "execution_count": null,
      "metadata": {
        "id": "fdvYIvpMtRra"
      },
      "outputs": [],
      "source": [
        "train_loss, test_loss = logistic_regression(X_train, y_train, X_test, y_test, 1000, 0.001, 0.0001)"
      ]
    },
    {
      "cell_type": "code",
      "execution_count": null,
      "metadata": {
        "colab": {
          "base_uri": "https://localhost:8080/",
          "height": 282
        },
        "id": "9tDEeKC8eqPM",
        "outputId": "feb24cc4-4064-48b3-8a62-f17312c2881c"
      },
      "outputs": [
        {
          "data": {
            "text/plain": [
              "[<matplotlib.lines.Line2D at 0x7f42063cd390>]"
            ]
          },
          "execution_count": 133,
          "metadata": {},
          "output_type": "execute_result"
        },
        {
          "data": {
            "image/png": "[encoded data removed]",
            "text/plain": [
              "<Figure size 432x288 with 1 Axes>"
            ]
          },
          "metadata": {},
          "output_type": "display_data"
        }
      ],
      "source": [
        "import matplotlib.pyplot as plt\n",
        "epoch_list = []\n",
        "\n",
        "for epoch in range(1000):\n",
        "  epoch_list.append(epoch)\n",
        "\n",
        "plt.plot(epoch_list, test_loss)"
      ]
    },
    {
      "cell_type": "code",
      "execution_count": null,
      "metadata": {
        "colab": {
          "base_uri": "https://localhost:8080/",
          "height": 282
        },
        "id": "NNKlbIzAfRc8",
        "outputId": "21d60c67-bdc1-4470-d265-5cf1ac1fa4e7"
      },
      "outputs": [
        {
          "data": {
            "text/plain": [
              "[<matplotlib.lines.Line2D at 0x7f4206482950>]"
            ]
          },
          "execution_count": 131,
          "metadata": {},
          "output_type": "execute_result"
        },
        {
          "data": {
            "image/png": "[encoded data removed]",
            "text/plain": [
              "<Figure size 432x288 with 1 Axes>"
            ]
          },
          "metadata": {},
          "output_type": "display_data"
        }
      ],
      "source": [
        "plt.plot(epoch_list, train_loss)"
      ]
    },
    {
      "cell_type": "markdown",
      "metadata": {
        "id": "9UEbsJqt7vJs"
      },
      "source": [
        "**Compute the final accuracy on test dataset.**"
      ]
    },
    {
      "cell_type": "code",
      "execution_count": null,
      "metadata": {
        "id": "RhCDgO508XAZ"
      },
      "outputs": [],
      "source": []
    },
    {
      "cell_type": "markdown",
      "metadata": {
        "id": "qUcuGi8Q-HE7"
      },
      "source": [
        "**BONUS: Train your model with varying values of learning rates say ranging in $[0.1, 0.01, 0.001, 0.0001]$ and plot the performances.**"
      ]
    },
    {
      "cell_type": "code",
      "execution_count": null,
      "metadata": {
        "id": "FCawXEH_8XbZ"
      },
      "outputs": [],
      "source": []
    },
    {
      "cell_type": "code",
      "execution_count": null,
      "metadata": {
        "id": "bEGCMsMY-s8a"
      },
      "outputs": [],
      "source": []
    }
  ],
  "metadata": {
    "colab": {
      "collapsed_sections": [],
      "provenance": []
    },
    "kernelspec": {
      "display_name": "Python 3",
      "name": "python3"
    },
    "language_info": {
      "name": "python"
    }
  },
  "nbformat": 4,
  "nbformat_minor": 0
}