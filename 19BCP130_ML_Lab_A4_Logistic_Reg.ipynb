{
  "cells": [
    {
      "cell_type": "markdown",
      "metadata": {},
      "source": [
        "# Logistics Regression"
      ]
    },
    {
      "cell_type": "markdown",
      "metadata": {
        "id": "MCPVvjqbnj9H"
      },
      "source": [
        "**Import Libraries**"
      ]
    },
    {
      "cell_type": "code",
      "execution_count": 197,
      "metadata": {
        "id": "4gjDBklCnJB2"
      },
      "outputs": [],
      "source": [
        "import numpy as np\n",
        "import pandas as pd\n",
        "import matplotlib.pyplot as plt\n",
        "import seaborn as sns\n",
        "from sklearn.model_selection import train_test_split\n",
        "from sklearn.datasets import *\n",
        "from sklearn.linear_model import LogisticRegression\n",
        "from sklearn.preprocessing import StandardScaler\n",
        "sns.set()"
      ]
    },
    {
      "cell_type": "markdown",
      "metadata": {
        "id": "xV_D3GvSnqE2"
      },
      "source": [
        "**Load the data**"
      ]
    },
    {
      "cell_type": "code",
      "execution_count": 198,
      "metadata": {
        "id": "RIBmJYuXnsa2"
      },
      "outputs": [],
      "source": [
        "data = load_breast_cancer() #refer: http://scikit-learn.org/stable/modules/generated/sklearn.datasets.load_breast_cancer.html#sklearn.datasets.load_breast_cancer\n",
        "\n",
        "# data with features\n",
        "X = data.data\n",
        "\n",
        "# data class labels\n",
        "y = data.target"
      ]
    },
    {
      "cell_type": "markdown",
      "metadata": {
        "id": "ZmIAUYfusNJK"
      },
      "source": [
        "**Print the number of data points, number of features and number of classes in the given data set.**"
      ]
    },
    {
      "cell_type": "code",
      "execution_count": 199,
      "metadata": {
        "colab": {
          "base_uri": "https://localhost:8080/"
        },
        "id": "Ib_fr2lDsaQa",
        "outputId": "01720fc9-ded9-4160-d3df-154f58608fea"
      },
      "outputs": [
        {
          "name": "stdout",
          "output_type": "stream",
          "text": [
            "Number of data points = 569\n",
            "Number of features = 30\n",
            "Number of classes = 2\n"
          ]
        }
      ],
      "source": [
        "print(f'Number of data points = {data.data.shape[0]}')\n",
        "print(f'Number of features = {len(data.feature_names)}')\n",
        "print(f'Number of classes = {len(data.target_names)}')"
      ]
    },
    {
      "cell_type": "markdown",
      "metadata": {
        "id": "0FSg49Uxsnw6"
      },
      "source": [
        "**Splitting data into Train and test sets with Stratified Sampling using train_test_split()**"
      ]
    },
    {
      "cell_type": "code",
      "execution_count": 200,
      "metadata": {
        "id": "XyGtQkgGsqQa"
      },
      "outputs": [],
      "source": [
        "X_train, X_test, y_train, y_test = train_test_split(X, y, stratify=y, test_size=0.2, random_state=42)"
      ]
    },
    {
      "cell_type": "code",
      "execution_count": 201,
      "metadata": {
        "colab": {
          "base_uri": "https://localhost:8080/"
        },
        "id": "uMhaqUAzYv4T",
        "outputId": "c5d9ff48-decd-4478-a313-dde8ebe7e484"
      },
      "outputs": [
        {
          "name": "stdout",
          "output_type": "stream",
          "text": [
            "Shape of X is 569 * 30\n",
            "Shape of X_train is 455 * 30\n",
            "Shape of X_test is 114 * 30\n"
          ]
        }
      ],
      "source": [
        "def getShape(name, dataset):\n",
        "  print(f'Shape of {name} is {dataset.shape[0]} * {dataset.shape[1]}')\n",
        "\n",
        "getShape('X', X)\n",
        "getShape('X_train', X_train)\n",
        "getShape('X_test', X_test)"
      ]
    },
    {
      "cell_type": "markdown",
      "metadata": {
        "id": "qZEUDkrmsr1S"
      },
      "source": [
        "**Data Preprocessing using column standardisation. Use sklearn.preprocessing.StandardScaler().**"
      ]
    },
    {
      "cell_type": "code",
      "execution_count": 202,
      "metadata": {
        "id": "W3IqnsLtsxdJ"
      },
      "outputs": [],
      "source": [
        "sc = StandardScaler()\n",
        "X_train = sc.fit_transform(X_train)\n",
        "X_test = sc.transform(X_test)"
      ]
    },
    {
      "cell_type": "markdown",
      "metadata": {
        "id": "0hI7Xizrsx9y"
      },
      "source": [
        "## **Implement Logistic Regression Using Gradient Descent: without using sklearn.**"
      ]
    },
    {
      "cell_type": "markdown",
      "metadata": {
        "id": "ynujCs0lwy4n"
      },
      "source": [
        "\n",
        "In this algorithm, $n$ is the total number of datapoints in dataset. \n",
        "$\\alpha$ is the learning rate to be used in gradient descent. For this work, just fix $\\alpha = 0.001$.\n",
        "\n",
        "The predicted value for data point $x$ is $y_{pred} = σ(w^{T}x + b)$, where $σ$ is a sigmoid function.\n",
        "\n",
        "**ALGORITHM:**\n",
        "\n",
        "<br>\n",
        "\n",
        "* Initialize the weight_vector and intercept term to zeros (Write your code in <font color='blue'>def initialize_weights()</font>)\n",
        "\n",
        "* Create a loss function (Write your code in <font color='blue'>def logloss()</font>) \n",
        "\n",
        " $log loss = -1*\\frac{1}{n}\\Sigma_{for each y_{true},y_{pred}}(y_{true}log(y_{pred})+(1-y_{true})log(1-y_{pred}))$\n",
        "- for each epoch:\n",
        "\n",
        "    - for each data point say $x_{i}$ in train:\n",
        "\n",
        "        - calculate the gradient of loss function w.r.t each weight in weight vector (write your code in <font color='blue'>def gradient_dw()</font>)\n",
        "\n",
        "        $dw^{(t)} = \\frac{1}{n}(x_i(σ((w^{(t)})^{T} x_i+b^{t}) - y_i))$ <br>\n",
        "\n",
        "        - Calculate the gradient of the intercept (write your code in <font color='blue'> def gradient_db()</font>)\n",
        "\n",
        "           $ db^{(t)} = \\frac{1}{n}(σ((w^{(t)})^{T} x_i+b^{t}) - y_i))$\n",
        "\n",
        "        - Update weights and intercept using gradient descent  <br>\n",
        "        $w^{(t+1)}← w^{(t)} - α(dw^{(t)}) $<br>\n",
        "\n",
        "        $b^{(t+1)}←b^{(t)} - α(db^{(t)}) $\n",
        "    - predict the output for all test data points with updated weights. (write your function in def prediction())\n",
        "    - calculate the log loss for train and test data points separately with the updated weights. Store these losses in the lists, train_loss and test_loss.\n",
        "    - And if you wish, you can compare the previous train loss and the current train loss, if it is not updating, then\n",
        "        you can stop the training\n",
        "    -return the updated weights, training and test loss lists.\n"
      ]
    },
    {
      "cell_type": "code",
      "execution_count": 203,
      "metadata": {
        "id": "85VJ1n5Q0ig6"
      },
      "outputs": [],
      "source": [
        "def logloss(y_true, y_pred):\n",
        "    # you have been given two arrays y_true and y_pred and you have to calculate the logloss\n",
        "    sum_ind = 0\n",
        "\n",
        "    for i in range(len(y_true)):\n",
        "      sum_ind += (y_true[i] * np.log(y_pred[i]) + (1 - y_true[i]) * np.log(1 - y_pred[i]))\n",
        "    \n",
        "    logloss = (-1) * ( 1 / len(y_true) ) * sum_ind\n",
        "\n",
        "    return logloss"
      ]
    },
    {
      "cell_type": "code",
      "execution_count": 204,
      "metadata": {
        "id": "18XrII86wxbn"
      },
      "outputs": [],
      "source": [
        "def initialize_weights(inVec):\n",
        "    #initialize the weights as 1d array consisting of all zeros similar to the dimensions of input vector.\n",
        "    weights = np.zeros_like(inVec)\n",
        "\n",
        "    #initialize bias to zero\n",
        "    bias = 0\n",
        "\n",
        "    return weights, bias"
      ]
    },
    {
      "cell_type": "code",
      "execution_count": 205,
      "metadata": {
        "id": "LvxGkvA-0bW6"
      },
      "outputs": [],
      "source": [
        "def sigmoid(z):\n",
        "    ''' In this function, we will return sigmoid of z'''\n",
        "    # compute sigmoid(z) and return\n",
        "    return 1 / (1 + np.exp(-z))"
      ]
    },
    {
      "cell_type": "code",
      "execution_count": 206,
      "metadata": {
        "id": "j1sFxfpm0yhA"
      },
      "outputs": [],
      "source": [
        "# w should be a vector of size as input data point. Size of w and dw be same.\n",
        "def gradient_dw(x, y, w, b, n):\n",
        "  # In this function, we will compute the gradient w.r.to w\n",
        "  dw = (1/n) * x * ( sigmoid(np.dot(w, x) + b) - y)\n",
        "\n",
        "  return dw    "
      ]
    },
    {
      "cell_type": "code",
      "execution_count": 207,
      "metadata": {
        "id": "CWxvXtMI1KMr"
      },
      "outputs": [],
      "source": [
        "#b should be a scalar value\n",
        "def gradient_db(x, y, w, b, n):\n",
        "  # In this function, we will compute gradient w.r.to b \n",
        "  db = (1/n) * ( sigmoid(np.dot(w, x) + b) - y )\n",
        "\n",
        "  return db"
      ]
    },
    {
      "cell_type": "markdown",
      "metadata": {
        "id": "xKttny689cmV"
      },
      "source": [
        "**For the prediction, if activation_value > 0.5 then assign label = 1 else label = 0**"
      ]
    },
    {
      "cell_type": "code",
      "execution_count": 208,
      "metadata": {
        "id": "aGLAVthp5Ug_"
      },
      "outputs": [],
      "source": [
        "def getPredictions(y_true, y_pred):\n",
        "  true_pos = 0\n",
        "\n",
        "  for i in range(len(y_true)):\n",
        "    if y_pred[i] > 0.5:\n",
        "      y_pred[i] = 1\n",
        "    else:\n",
        "      y_pred[i] = 0\n",
        "\n",
        "    if y_true[i] == y_pred[i]:\n",
        "      true_pos += 1\n",
        "\n",
        "  return true_pos, round((true_pos/len(y_true)) * 100, 2)"
      ]
    },
    {
      "cell_type": "code",
      "execution_count": 209,
      "metadata": {
        "id": "IKMC4UpxeT9c"
      },
      "outputs": [],
      "source": [
        "def predict(w, b, X):\n",
        "  n = len(X)\n",
        "  z = np.dot(w, X) + b\n",
        "\n",
        "  return sigmoid(z)"
      ]
    },
    {
      "cell_type": "code",
      "execution_count": 210,
      "metadata": {
        "id": "yu1wK8Xq1mTI"
      },
      "outputs": [],
      "source": [
        "def logistic_regression(X_train, y_train, X_test, y_test, epochs, lr):\n",
        "  # implement your algorithm\n",
        "  weights, bias = initialize_weights(X_train[0])\n",
        "\n",
        "  train_loss = []\n",
        "  test_loss = []\n",
        "  train_true_pos = []\n",
        "  test_true_pos = []\n",
        "  train_acc = []\n",
        "  test_acc = []\n",
        "  epoch_list = []\n",
        "  n = len(X_train)\n",
        "\n",
        "  loss_last = -1\n",
        "\n",
        "  for epoch in range(epochs): # Running epochs for training\n",
        "    for batch in range(n):\n",
        "      # Finding differentiations against weight and bias \n",
        "      dw = gradient_dw(X_train[batch], y_train[batch], weights, bias, n)\n",
        "      db = gradient_db(X_train[batch], y_train[batch], weights, bias, n)\n",
        "\n",
        "      # Changing weights and biases as per differences calculated above\n",
        "      weights -= lr * dw\n",
        "      bias -= lr * db\n",
        "\n",
        "    train_predict, test_predict = [], []\n",
        "\n",
        "    for batch in range(len(X_train)):\n",
        "      train_predict.append( predict(weights, bias, X_train[batch]) )\n",
        "    \n",
        "    for batch in range(len(X_test)):\n",
        "      test_predict.append( predict(weights, bias, X_test[batch]) )\n",
        "\n",
        "    curr_train_loss = logloss(y_train, train_predict)\n",
        "\n",
        "    if curr_train_loss == loss_last or curr_train_loss==1:\n",
        "      break\n",
        "    else:\n",
        "      epoch+=1\n",
        "      epoch_list.append(epoch)\n",
        "\n",
        "      loss_last = curr_train_loss\n",
        "      train_loss.append( curr_train_loss )\n",
        "      test_loss.append( logloss(y_test, test_predict) )\n",
        "\n",
        "      train_pred, train_accuracy = getPredictions(y_train, train_predict)\n",
        "      train_true_pos.append(f'{train_pred}')\n",
        "      train_acc.append(train_accuracy)\n",
        "\n",
        "      test_correct_pred, test_accuracy = getPredictions(y_test, test_predict)\n",
        "      test_true_pos.append(f'{test_correct_pred}')\n",
        "      test_acc.append(test_accuracy)\n",
        "\n",
        "  results = pd.DataFrame({ \"Epochs\": epoch_list,\n",
        "                           \"Train Loss\": train_loss,\n",
        "                           \"Test Loss\": test_loss,\n",
        "                           \"Train Accuracy\": train_acc,\n",
        "                           \"Test Accuracy\": test_acc })\n",
        "  \n",
        "  return results, weights, bias"
      ]
    },
    {
      "cell_type": "markdown",
      "metadata": {
        "id": "WYe3WqKO5kW1"
      },
      "source": [
        "**Plot your train and test loss vs epochs. Plot epoch number on X-axis and loss on Y-axis and make sure that the curve is converging**"
      ]
    },
    {
      "cell_type": "code",
      "execution_count": 211,
      "metadata": {
        "id": "fdvYIvpMtRra"
      },
      "outputs": [],
      "source": [
        "epochs = 100\n",
        "learning_rate = 0.00001\n",
        "\n",
        "main_results, weights, bias = logistic_regression(X_train, y_train, X_test, y_test, epochs, learning_rate)"
      ]
    },
    {
      "cell_type": "code",
      "execution_count": 212,
      "metadata": {
        "colab": {
          "base_uri": "https://localhost:8080/",
          "height": 656
        },
        "id": "uuxu1LoY2oD4",
        "outputId": "8fec9567-5e03-437c-f33b-9c5f1ece53ab"
      },
      "outputs": [
        {
          "data": {
            "text/html": [
              "<div>\n",
              "<style scoped>\n",
              "    .dataframe tbody tr th:only-of-type {\n",
              "        vertical-align: middle;\n",
              "    }\n",
              "\n",
              "    .dataframe tbody tr th {\n",
              "        vertical-align: top;\n",
              "    }\n",
              "\n",
              "    .dataframe thead th {\n",
              "        text-align: right;\n",
              "    }\n",
              "</style>\n",
              "<table border=\"1\" class=\"dataframe\">\n",
              "  <thead>\n",
              "    <tr style=\"text-align: right;\">\n",
              "      <th></th>\n",
              "      <th>Epochs</th>\n",
              "      <th>Train Loss</th>\n",
              "      <th>Test Loss</th>\n",
              "      <th>Train Accuracy</th>\n",
              "      <th>Test Accuracy</th>\n",
              "    </tr>\n",
              "  </thead>\n",
              "  <tbody>\n",
              "    <tr>\n",
              "      <th>0</th>\n",
              "      <td>1</td>\n",
              "      <td>0.693127</td>\n",
              "      <td>0.693128</td>\n",
              "      <td>93.85</td>\n",
              "      <td>90.35</td>\n",
              "    </tr>\n",
              "    <tr>\n",
              "      <th>1</th>\n",
              "      <td>2</td>\n",
              "      <td>0.693106</td>\n",
              "      <td>0.693108</td>\n",
              "      <td>93.85</td>\n",
              "      <td>90.35</td>\n",
              "    </tr>\n",
              "    <tr>\n",
              "      <th>2</th>\n",
              "      <td>3</td>\n",
              "      <td>0.693086</td>\n",
              "      <td>0.693089</td>\n",
              "      <td>93.85</td>\n",
              "      <td>90.35</td>\n",
              "    </tr>\n",
              "    <tr>\n",
              "      <th>3</th>\n",
              "      <td>4</td>\n",
              "      <td>0.693065</td>\n",
              "      <td>0.693070</td>\n",
              "      <td>93.85</td>\n",
              "      <td>90.35</td>\n",
              "    </tr>\n",
              "    <tr>\n",
              "      <th>4</th>\n",
              "      <td>5</td>\n",
              "      <td>0.693045</td>\n",
              "      <td>0.693050</td>\n",
              "      <td>93.85</td>\n",
              "      <td>90.35</td>\n",
              "    </tr>\n",
              "    <tr>\n",
              "      <th>...</th>\n",
              "      <td>...</td>\n",
              "      <td>...</td>\n",
              "      <td>...</td>\n",
              "      <td>...</td>\n",
              "      <td>...</td>\n",
              "    </tr>\n",
              "    <tr>\n",
              "      <th>95</th>\n",
              "      <td>96</td>\n",
              "      <td>0.691189</td>\n",
              "      <td>0.691290</td>\n",
              "      <td>93.85</td>\n",
              "      <td>90.35</td>\n",
              "    </tr>\n",
              "    <tr>\n",
              "      <th>96</th>\n",
              "      <td>97</td>\n",
              "      <td>0.691168</td>\n",
              "      <td>0.691270</td>\n",
              "      <td>93.85</td>\n",
              "      <td>90.35</td>\n",
              "    </tr>\n",
              "    <tr>\n",
              "      <th>97</th>\n",
              "      <td>98</td>\n",
              "      <td>0.691148</td>\n",
              "      <td>0.691251</td>\n",
              "      <td>93.85</td>\n",
              "      <td>90.35</td>\n",
              "    </tr>\n",
              "    <tr>\n",
              "      <th>98</th>\n",
              "      <td>99</td>\n",
              "      <td>0.691128</td>\n",
              "      <td>0.691232</td>\n",
              "      <td>93.85</td>\n",
              "      <td>90.35</td>\n",
              "    </tr>\n",
              "    <tr>\n",
              "      <th>99</th>\n",
              "      <td>100</td>\n",
              "      <td>0.691107</td>\n",
              "      <td>0.691212</td>\n",
              "      <td>93.85</td>\n",
              "      <td>90.35</td>\n",
              "    </tr>\n",
              "  </tbody>\n",
              "</table>\n",
              "<p>100 rows × 5 columns</p>\n",
              "</div>"
            ],
            "text/plain": [
              "    Epochs  Train Loss  Test Loss  Train Accuracy  Test Accuracy\n",
              "0        1    0.693127   0.693128           93.85          90.35\n",
              "1        2    0.693106   0.693108           93.85          90.35\n",
              "2        3    0.693086   0.693089           93.85          90.35\n",
              "3        4    0.693065   0.693070           93.85          90.35\n",
              "4        5    0.693045   0.693050           93.85          90.35\n",
              "..     ...         ...        ...             ...            ...\n",
              "95      96    0.691189   0.691290           93.85          90.35\n",
              "96      97    0.691168   0.691270           93.85          90.35\n",
              "97      98    0.691148   0.691251           93.85          90.35\n",
              "98      99    0.691128   0.691232           93.85          90.35\n",
              "99     100    0.691107   0.691212           93.85          90.35\n",
              "\n",
              "[100 rows x 5 columns]"
            ]
          },
          "execution_count": 212,
          "metadata": {},
          "output_type": "execute_result"
        }
      ],
      "source": [
        "main_results"
      ]
    },
    {
      "cell_type": "code",
      "execution_count": 213,
      "metadata": {
        "colab": {
          "base_uri": "https://localhost:8080/",
          "height": 301
        },
        "id": "hcZ7rKykoZcH",
        "outputId": "ae21a97c-5381-4486-f645-13c083283876"
      },
      "outputs": [
        {
          "data": {
            "image/png": "[encoded data removed]",
            "text/plain": [
              "<Figure size 432x288 with 1 Axes>"
            ]
          },
          "metadata": {},
          "output_type": "display_data"
        }
      ],
      "source": [
        "main_results.plot(x='Epochs', y=['Train Loss', 'Test Loss'], kind=\"line\")\n",
        "plt.ylabel('Loss')\n",
        "plt.title('Epochs vs Loss for Train and Test data')\n",
        "plt.show()"
      ]
    },
    {
      "cell_type": "markdown",
      "metadata": {
        "id": "9UEbsJqt7vJs"
      },
      "source": [
        "**Compute the final accuracy on test dataset.**"
      ]
    },
    {
      "cell_type": "code",
      "execution_count": 214,
      "metadata": {
        "id": "RhCDgO508XAZ"
      },
      "outputs": [],
      "source": [
        "def getTestAccuracy(weights, bias, X_test, y_test):\n",
        "  n = len(X_test)\n",
        "  \n",
        "  y_pred = []\n",
        "\n",
        "  for batch in range(n):\n",
        "    y_pred.append( predict(weights, bias, X_test[batch]) )\n",
        "  \n",
        "  correct_preds, accuracy = getPredictions(y_test, y_pred)\n",
        "\n",
        "  return correct_preds, accuracy"
      ]
    },
    {
      "cell_type": "code",
      "execution_count": 215,
      "metadata": {
        "colab": {
          "base_uri": "https://localhost:8080/"
        },
        "id": "JP3fll2BsCxn",
        "outputId": "6b50d2e9-cf43-4285-fabc-12d9c49555b1"
      },
      "outputs": [
        {
          "name": "stdout",
          "output_type": "stream",
          "text": [
            "For Test Dataset:\n",
            "    Accuracy = 90.35 %\n",
            "    Correct Predictions = 103/114\n"
          ]
        }
      ],
      "source": [
        "correct_preds, accuracy = getTestAccuracy(weights, bias, X_test, y_test)\n",
        "\n",
        "print(f'For Test Dataset:')\n",
        "print(f'    Accuracy = {accuracy} %')\n",
        "print(f'    Correct Predictions = {correct_preds}/{len(X_test)}')"
      ]
    },
    {
      "cell_type": "markdown",
      "metadata": {
        "id": "qUcuGi8Q-HE7"
      },
      "source": [
        "**BONUS: Train your model with varying values of learning rates say ranging in $[0.1, 0.01, 0.001, 0.0001]$ and plot the performances.**"
      ]
    },
    {
      "cell_type": "code",
      "execution_count": 216,
      "metadata": {
        "id": "FCawXEH_8XbZ"
      },
      "outputs": [],
      "source": [
        "learning_rates = [0.1, 0.01, 0.001, 0.0001]"
      ]
    },
    {
      "cell_type": "code",
      "execution_count": 217,
      "metadata": {
        "colab": {
          "base_uri": "https://localhost:8080/",
          "height": 301
        },
        "id": "bEGCMsMY-s8a",
        "outputId": "a6212a18-dd6e-43c1-a762-c03173ef1cd5"
      },
      "outputs": [
        {
          "name": "stdout",
          "output_type": "stream",
          "text": [
            "0     0.540370\n",
            "1     0.452676\n",
            "2     0.396155\n",
            "3     0.356426\n",
            "4     0.326754\n",
            "        ...   \n",
            "95    0.100040\n",
            "96    0.099700\n",
            "97    0.099365\n",
            "98    0.099036\n",
            "99    0.098712\n",
            "Name: Train Loss, Length: 100, dtype: float64\n",
            "0     0.673317\n",
            "1     0.654717\n",
            "2     0.637263\n",
            "3     0.620871\n",
            "4     0.605464\n",
            "        ...   \n",
            "95    0.249641\n",
            "96    0.248545\n",
            "97    0.247465\n",
            "98    0.246400\n",
            "99    0.245349\n",
            "Name: Train Loss, Length: 100, dtype: float64\n",
            "0     0.691107\n",
            "1     0.689080\n",
            "2     0.687066\n",
            "3     0.685065\n",
            "4     0.683077\n",
            "        ...   \n",
            "95    0.545341\n",
            "96    0.544202\n",
            "97    0.543068\n",
            "98    0.541941\n",
            "99    0.540820\n",
            "Name: Train Loss, Length: 100, dtype: float64\n",
            "0     0.692943\n",
            "1     0.692738\n",
            "2     0.692534\n",
            "3     0.692330\n",
            "4     0.692126\n",
            "        ...   \n",
            "95    0.674094\n",
            "96    0.673901\n",
            "97    0.673709\n",
            "98    0.673517\n",
            "99    0.673325\n",
            "Name: Train Loss, Length: 100, dtype: float64\n"
          ]
        },
        {
          "data": {
            "image/png": "[encoded data removed]",
            "text/plain": [
              "<Figure size 432x288 with 1 Axes>"
            ]
          },
          "metadata": {},
          "output_type": "display_data"
        }
      ],
      "source": [
        "for curr_learning_rate in learning_rates:\n",
        "  results, weights, bias = logistic_regression(X_train, y_train, X_test, y_test, epochs, curr_learning_rate)\n",
        "  print(results['Train Loss'])\n",
        "  plt.plot(results['Epochs'].to_numpy(), results['Train Loss'].to_numpy())\n",
        "\n",
        "plt.legend([str(i) for i in learning_rates], loc='upper right')\n",
        "plt.xlabel('Epochs')\n",
        "plt.ylabel('Train Loss')\n",
        "plt.title('Epochs vs Train Loss for different learning rates')\n",
        "plt.show()"
      ]
    },
    {
      "cell_type": "code",
      "execution_count": 218,
      "metadata": {
        "colab": {
          "base_uri": "https://localhost:8080/",
          "height": 301
        },
        "id": "HGAEgtAEvmsm",
        "outputId": "d4cdd19d-0ebc-4b8d-b20c-77769a50d16e"
      },
      "outputs": [
        {
          "name": "stdout",
          "output_type": "stream",
          "text": [
            "0     0.549519\n",
            "1     0.467568\n",
            "2     0.414485\n",
            "3     0.376954\n",
            "4     0.348784\n",
            "        ...   \n",
            "95    0.127685\n",
            "96    0.127340\n",
            "97    0.127000\n",
            "98    0.126666\n",
            "99    0.126337\n",
            "Name: Test Loss, Length: 100, dtype: float64\n",
            "0     0.674360\n",
            "1     0.656781\n",
            "2     0.640322\n",
            "3     0.624899\n",
            "4     0.610429\n",
            "        ...   \n",
            "95    0.274937\n",
            "96    0.273881\n",
            "97    0.272840\n",
            "98    0.271813\n",
            "99    0.270800\n",
            "Name: Test Loss, Length: 100, dtype: float64\n",
            "0     0.691212\n",
            "1     0.689290\n",
            "2     0.687381\n",
            "3     0.685485\n",
            "4     0.683601\n",
            "        ...   \n",
            "95    0.554160\n",
            "96    0.553095\n",
            "97    0.552036\n",
            "98    0.550983\n",
            "99    0.549936\n",
            "Name: Test Loss, Length: 100, dtype: float64\n",
            "0     0.692953\n",
            "1     0.692759\n",
            "2     0.692565\n",
            "3     0.692372\n",
            "4     0.692178\n",
            "        ...   \n",
            "95    0.675095\n",
            "96    0.674913\n",
            "97    0.674731\n",
            "98    0.674549\n",
            "99    0.674367\n",
            "Name: Test Loss, Length: 100, dtype: float64\n"
          ]
        },
        {
          "data": {
            "image/png": "[encoded data removed]",
            "text/plain": [
              "<Figure size 432x288 with 1 Axes>"
            ]
          },
          "metadata": {},
          "output_type": "display_data"
        }
      ],
      "source": [
        "for curr_learning_rate in learning_rates:\n",
        "  results, weights, bias = logistic_regression(X_train, y_train, X_test, y_test, epochs, curr_learning_rate)\n",
        "  print(results['Test Loss'])\n",
        "  plt.plot(results['Epochs'].to_numpy(), results['Test Loss'].to_numpy())\n",
        "\n",
        "plt.legend([str(i) for i in learning_rates], loc='upper right')\n",
        "plt.xlabel('Epochs')\n",
        "plt.ylabel('Test Loss')\n",
        "plt.title('Epochs vs Test Loss for different learning rates')\n",
        "plt.show()"
      ]
    }
  ],
  "metadata": {
    "colab": {
      "collapsed_sections": [],
      "provenance": []
    },
    "kernelspec": {
      "display_name": "Python 3.9.1 64-bit",
      "language": "python",
      "name": "python3"
    },
    "language_info": {
      "codemirror_mode": {
        "name": "ipython",
        "version": 3
      },
      "file_extension": ".py",
      "mimetype": "text/x-python",
      "name": "python",
      "nbconvert_exporter": "python",
      "pygments_lexer": "ipython3",
      "version": "3.9.1"
    },
    "vscode": {
      "interpreter": {
        "hash": "93c3a718b4c6642ce4c45cce76395d725a388a32f575fa81b43fa67ce89bca37"
      }
    }
  },
  "nbformat": 4,
  "nbformat_minor": 0
}
